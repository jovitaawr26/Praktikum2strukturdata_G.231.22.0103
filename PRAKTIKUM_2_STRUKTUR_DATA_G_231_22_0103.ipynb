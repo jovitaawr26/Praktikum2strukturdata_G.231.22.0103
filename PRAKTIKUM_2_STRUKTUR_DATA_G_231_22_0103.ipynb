{
  "nbformat": 4,
  "nbformat_minor": 0,
  "metadata": {
    "colab": {
      "provenance": []
    },
    "kernelspec": {
      "name": "python3",
      "display_name": "Python 3"
    },
    "language_info": {
      "name": "python"
    }
  },
  "cells": [
    {
      "cell_type": "code",
      "execution_count": 1,
      "metadata": {
        "colab": {
          "base_uri": "https://localhost:8080/"
        },
        "id": "-WFRx2p2y6TB",
        "outputId": "37e85e3f-c88e-4519-9367-1b2fc6e2f3ef"
      },
      "outputs": [
        {
          "output_type": "stream",
          "name": "stdout",
          "text": [
            "apel\n",
            "jeruk\n"
          ]
        }
      ],
      "source": [
        "#Membuat sebuah Tuple\n",
        "buah = ('apel','jeruk','pisang','anggur')\n",
        "\n",
        "#Mengakses elemen Tuple\n",
        "print(buah[0]) #Output: 'apel'\n",
        "print(buah[1]) #Output: 'jeruk'\n",
        "\n",
        "#Tupple bersifat tidak dapat diubah (immutable)\n",
        "#Jika mencoba mengubah elemen Tuple, akan muncuk error\n",
        "#buah[0] = 'mangga' #Ini akan menghasilkan TypeError"
      ]
    },
    {
      "cell_type": "code",
      "source": [
        "#Membuat sebuah Dictionary\n",
        "data_mahasiswa = {\n",
        "    'nim': 'G.231.22.0103',\n",
        "    'nama': 'Jovita Wayan R',\n",
        "    'jurusan': 'Teknik Informatika',\n",
        "    'semester': 3\n",
        "}\n",
        "\n",
        "#Mengakses nilai dalam Dictionary\n",
        "print(data_mahasiswa['nim'])  #Output: 'G.231.22.0103'\n",
        "print(data_mahasiswa['nama']) #Output: 'Jovita Wayan R'\n",
        "\n",
        "#Menambahkan elemen baru ke Dictionary\n",
        "data_mahasiswa['ipk'] = 3.9\n",
        "\n",
        "#Mengubah nilai dalam Dictionary\n",
        "data_mahasiswa['semester'] = 3\n",
        "\n",
        "#Menghapus elemen dari Dictionary\n",
        "del data_mahasiswa['jurusan']\n",
        "\n",
        "#iterasi melalui semua kunci dalam Dictionary\n",
        "for key in data_mahasiswa:\n",
        "    print(key,':', data_mahasiswa[key])\n",
        "\n",
        "#iterasi melelui semua nilai dalam Dictionary\n",
        "for value in data_mahasiswa.values():\n",
        "  print(value)\n",
        "\n",
        "#iterasi melalui semua pasangan kunci dan nilai dalam Dictionary\n",
        "for key, value in data_mahasiswa.items():\n",
        "    print(key, ':', value)"
      ],
      "metadata": {
        "colab": {
          "base_uri": "https://localhost:8080/"
        },
        "id": "3mI-zpQl0R2r",
        "outputId": "40bbedfc-c35a-462c-e382-32d9233f9997"
      },
      "execution_count": 6,
      "outputs": [
        {
          "output_type": "stream",
          "name": "stdout",
          "text": [
            "G.231.22.0103\n",
            "Jovita Wayan R\n",
            "nim : G.231.22.0103\n",
            "nama : Jovita Wayan R\n",
            "semester : 3\n",
            "ipk : 3.9\n",
            "G.231.22.0103\n",
            "Jovita Wayan R\n",
            "3\n",
            "3.9\n",
            "nim : G.231.22.0103\n",
            "nama : Jovita Wayan R\n",
            "semester : 3\n",
            "ipk : 3.9\n"
          ]
        }
      ]
    }
  ]
}